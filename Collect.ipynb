{
 "cells": [
  {
   "cell_type": "markdown",
   "metadata": {},
   "source": [
    "# Collect"
   ]
  },
  {
   "cell_type": "markdown",
   "metadata": {},
   "source": [
    "## Environment"
   ]
  },
  {
   "cell_type": "code",
   "execution_count": 1,
   "metadata": {},
   "outputs": [],
   "source": [
    "import os\n",
    "import pandas as pd\n",
    "from ftplib import FTP\n",
    "import gzip\n",
    "import shutil"
   ]
  },
  {
   "cell_type": "code",
   "execution_count": 2,
   "metadata": {},
   "outputs": [
    {
     "name": "stdout",
     "output_type": "stream",
     "text": [
      "-rw-r--r--    1 ftp      ftp      10902240 Nov 18  2011 chemblntd_all.sdf.gz\n",
      "-rw-r--r--    1 ftp      ftp       1151947 Nov 18  2011 chemblntd_all.txt.gz\n",
      "-rw-r--r--    1 ftp      ftp       5696046 Nov 18  2011 chemblntd_gsk.sdf.gz\n",
      "-rw-r--r--    1 ftp      ftp        670135 Nov 18  2011 chemblntd_gsk.txt.gz\n"
     ]
    },
    {
     "data": {
      "text/plain": [
       "'226 Directory send OK.'"
      ]
     },
     "execution_count": 2,
     "metadata": {},
     "output_type": "execute_result"
    }
   ],
   "source": [
    "# connect to host, default port\n",
    "ftp = FTP('ftp.ebi.ac.uk')   \n",
    "# user anonymous, passwd anonymous@                       \n",
    "ftp.login()\n",
    "# change into \"set1_gsk\" directory\n",
    "ftp.cwd('/pub/databases/chembl/ChEMBLNTD/set1_gsk')               \n",
    "ftp.retrlines('LIST')"
   ]
  },
  {
   "cell_type": "code",
   "execution_count": 3,
   "metadata": {},
   "outputs": [],
   "source": [
    "listing = []\n",
    "ftp.retrlines(\"LIST\", listing.append)\n",
    "words = listing[1].split(None, 8)\n",
    "filename = words[-1].lstrip()"
   ]
  },
  {
   "cell_type": "code",
   "execution_count": 4,
   "metadata": {},
   "outputs": [
    {
     "data": {
      "text/plain": [
       "'221 Goodbye.'"
      ]
     },
     "execution_count": 4,
     "metadata": {},
     "output_type": "execute_result"
    }
   ],
   "source": [
    "# download the file\n",
    "local_filename = os.path.join(r\"C:\\Projects\\Cheminformatics\\data\", filename)\n",
    "lf = open(local_filename, \"wb\")\n",
    "ftp.retrbinary(\"RETR \" + filename, lf.write, 8*1024)\n",
    "lf.close()\n",
    "\n",
    "ftp.quit()"
   ]
  },
  {
   "cell_type": "code",
   "execution_count": 5,
   "metadata": {},
   "outputs": [],
   "source": [
    "with gzip.open(local_filename, 'rb') as f_in:\n",
    "    with open(local_filename[0:-3], 'wb') as f_out:\n",
    "        shutil.copyfileobj(f_in, f_out)"
   ]
  },
  {
   "cell_type": "code",
   "execution_count": 6,
   "metadata": {},
   "outputs": [],
   "source": [
    "df = pd.read_csv(local_filename[0:-3], sep='\\t', header=(0))"
   ]
  },
  {
   "cell_type": "code",
   "execution_count": 7,
   "metadata": {},
   "outputs": [
    {
     "data": {
      "text/plain": [
       "(26784, 19)"
      ]
     },
     "execution_count": 7,
     "metadata": {},
     "output_type": "execute_result"
    }
   ],
   "source": [
    "df.shape"
   ]
  },
  {
   "cell_type": "code",
   "execution_count": 8,
   "metadata": {},
   "outputs": [
    {
     "data": {
      "text/html": [
       "<div>\n",
       "<style scoped>\n",
       "    .dataframe tbody tr th:only-of-type {\n",
       "        vertical-align: middle;\n",
       "    }\n",
       "\n",
       "    .dataframe tbody tr th {\n",
       "        vertical-align: top;\n",
       "    }\n",
       "\n",
       "    .dataframe thead th {\n",
       "        text-align: right;\n",
       "    }\n",
       "</style>\n",
       "<table border=\"1\" class=\"dataframe\">\n",
       "  <thead>\n",
       "    <tr style=\"text-align: right;\">\n",
       "      <th></th>\n",
       "      <th>COMPOUND_ID</th>\n",
       "      <th>SOURCES</th>\n",
       "      <th>SYNONYMS</th>\n",
       "      <th>MW_FREEBASE</th>\n",
       "      <th>ALOGP</th>\n",
       "      <th>HBA</th>\n",
       "      <th>HBD</th>\n",
       "      <th>PSA</th>\n",
       "      <th>RTB</th>\n",
       "      <th>RO3_PASS</th>\n",
       "      <th>NUM_RO5_VIOLATIONS</th>\n",
       "      <th>MED_CHEM_FRIENDLY</th>\n",
       "      <th>PCT_IHB_3D7</th>\n",
       "      <th>PCT_INHB_DD2</th>\n",
       "      <th>PCT_INHIB_3D7_PFLDH</th>\n",
       "      <th>pXC50_3D7</th>\n",
       "      <th>PCT_INHIB_HEPG2</th>\n",
       "      <th>IFI</th>\n",
       "      <th>SMILES</th>\n",
       "    </tr>\n",
       "  </thead>\n",
       "  <tbody>\n",
       "    <tr>\n",
       "      <th>0</th>\n",
       "      <td>541908</td>\n",
       "      <td>TCMDC-135431, 641908 (CHEMBL)</td>\n",
       "      <td>NaN</td>\n",
       "      <td>528.68500</td>\n",
       "      <td>3.823</td>\n",
       "      <td>6.0</td>\n",
       "      <td>1.0</td>\n",
       "      <td>66.93</td>\n",
       "      <td>9.0</td>\n",
       "      <td>N</td>\n",
       "      <td>1.0</td>\n",
       "      <td>Y</td>\n",
       "      <td>94.0</td>\n",
       "      <td>24.0</td>\n",
       "      <td>0.0</td>\n",
       "      <td>6.09857</td>\n",
       "      <td>7.0</td>\n",
       "      <td>0.79</td>\n",
       "      <td>COc1ccc(c(c1)OC)C2CCN(CC2)CCN3CCC(CC3)NC(=O)c4...</td>\n",
       "    </tr>\n",
       "    <tr>\n",
       "      <th>1</th>\n",
       "      <td>538495</td>\n",
       "      <td>TCMDC-135971, 638495 (CHEMBL)</td>\n",
       "      <td>NaN</td>\n",
       "      <td>552.08749</td>\n",
       "      <td>5.109</td>\n",
       "      <td>5.0</td>\n",
       "      <td>2.0</td>\n",
       "      <td>130.72</td>\n",
       "      <td>9.0</td>\n",
       "      <td>N</td>\n",
       "      <td>2.0</td>\n",
       "      <td>Y</td>\n",
       "      <td>100.0</td>\n",
       "      <td>60.0</td>\n",
       "      <td>3.0</td>\n",
       "      <td>6.00393</td>\n",
       "      <td>36.0</td>\n",
       "      <td>7.75</td>\n",
       "      <td>C[C@H](c1ccccc1Cl)Oc2cc(sc2C(=O)N)n3cnc4c3cc(c...</td>\n",
       "    </tr>\n",
       "    <tr>\n",
       "      <th>2</th>\n",
       "      <td>538533</td>\n",
       "      <td>TCMDC-140507, 638533 (CHEMBL)</td>\n",
       "      <td>NaN</td>\n",
       "      <td>489.52990</td>\n",
       "      <td>3.712</td>\n",
       "      <td>6.0</td>\n",
       "      <td>2.0</td>\n",
       "      <td>66.85</td>\n",
       "      <td>10.0</td>\n",
       "      <td>N</td>\n",
       "      <td>0.0</td>\n",
       "      <td>Y</td>\n",
       "      <td>100.0</td>\n",
       "      <td>74.0</td>\n",
       "      <td>3.0</td>\n",
       "      <td>6.79958</td>\n",
       "      <td>16.0</td>\n",
       "      <td>2.19</td>\n",
       "      <td>COc1ccc2c(c1)c(ccn2)[C@H](CN3CCC(CC3)NCCOc4ccc...</td>\n",
       "    </tr>\n",
       "    <tr>\n",
       "      <th>3</th>\n",
       "      <td>538571</td>\n",
       "      <td>TCMDC-136654, 638571 (CHEMBL)</td>\n",
       "      <td>NaN</td>\n",
       "      <td>434.38194</td>\n",
       "      <td>4.780</td>\n",
       "      <td>4.0</td>\n",
       "      <td>1.0</td>\n",
       "      <td>65.63</td>\n",
       "      <td>5.0</td>\n",
       "      <td>N</td>\n",
       "      <td>0.0</td>\n",
       "      <td>Y</td>\n",
       "      <td>91.0</td>\n",
       "      <td>4.0</td>\n",
       "      <td>0.0</td>\n",
       "      <td>5.96201</td>\n",
       "      <td>17.0</td>\n",
       "      <td>23.08</td>\n",
       "      <td>COc1ccc(cc1)N(c2nc(cs2)c3cc(ccc3Cl)Cl)C4CCNCC4...</td>\n",
       "    </tr>\n",
       "    <tr>\n",
       "      <th>4</th>\n",
       "      <td>538605</td>\n",
       "      <td>TCMDC-141576, 638605 (CHEMBL)</td>\n",
       "      <td>NaN</td>\n",
       "      <td>572.59858</td>\n",
       "      <td>4.069</td>\n",
       "      <td>4.0</td>\n",
       "      <td>1.0</td>\n",
       "      <td>118.26</td>\n",
       "      <td>8.0</td>\n",
       "      <td>N</td>\n",
       "      <td>1.0</td>\n",
       "      <td>Y</td>\n",
       "      <td>99.0</td>\n",
       "      <td>95.0</td>\n",
       "      <td>0.0</td>\n",
       "      <td>6.44885</td>\n",
       "      <td>0.0</td>\n",
       "      <td>2.70</td>\n",
       "      <td>CCN1CCN(C(=O)C1=O)C(=O)NC(c2cccs2)C(=O)N(C)Cc3...</td>\n",
       "    </tr>\n",
       "  </tbody>\n",
       "</table>\n",
       "</div>"
      ],
      "text/plain": [
       "   COMPOUND_ID                        SOURCES SYNONYMS  MW_FREEBASE  ALOGP  \\\n",
       "0       541908  TCMDC-135431, 641908 (CHEMBL)      NaN    528.68500  3.823   \n",
       "1       538495  TCMDC-135971, 638495 (CHEMBL)      NaN    552.08749  5.109   \n",
       "2       538533  TCMDC-140507, 638533 (CHEMBL)      NaN    489.52990  3.712   \n",
       "3       538571  TCMDC-136654, 638571 (CHEMBL)      NaN    434.38194  4.780   \n",
       "4       538605  TCMDC-141576, 638605 (CHEMBL)      NaN    572.59858  4.069   \n",
       "\n",
       "   HBA  HBD     PSA   RTB RO3_PASS  NUM_RO5_VIOLATIONS MED_CHEM_FRIENDLY  \\\n",
       "0  6.0  1.0   66.93   9.0        N                 1.0                 Y   \n",
       "1  5.0  2.0  130.72   9.0        N                 2.0                 Y   \n",
       "2  6.0  2.0   66.85  10.0        N                 0.0                 Y   \n",
       "3  4.0  1.0   65.63   5.0        N                 0.0                 Y   \n",
       "4  4.0  1.0  118.26   8.0        N                 1.0                 Y   \n",
       "\n",
       "   PCT_IHB_3D7  PCT_INHB_DD2  PCT_INHIB_3D7_PFLDH  pXC50_3D7  PCT_INHIB_HEPG2  \\\n",
       "0         94.0          24.0                  0.0    6.09857              7.0   \n",
       "1        100.0          60.0                  3.0    6.00393             36.0   \n",
       "2        100.0          74.0                  3.0    6.79958             16.0   \n",
       "3         91.0           4.0                  0.0    5.96201             17.0   \n",
       "4         99.0          95.0                  0.0    6.44885              0.0   \n",
       "\n",
       "     IFI                                             SMILES  \n",
       "0   0.79  COc1ccc(c(c1)OC)C2CCN(CC2)CCN3CCC(CC3)NC(=O)c4...  \n",
       "1   7.75  C[C@H](c1ccccc1Cl)Oc2cc(sc2C(=O)N)n3cnc4c3cc(c...  \n",
       "2   2.19  COc1ccc2c(c1)c(ccn2)[C@H](CN3CCC(CC3)NCCOc4ccc...  \n",
       "3  23.08  COc1ccc(cc1)N(c2nc(cs2)c3cc(ccc3Cl)Cl)C4CCNCC4...  \n",
       "4   2.70  CCN1CCN(C(=O)C1=O)C(=O)NC(c2cccs2)C(=O)N(C)Cc3...  "
      ]
     },
     "execution_count": 8,
     "metadata": {},
     "output_type": "execute_result"
    }
   ],
   "source": [
    "df.head()"
   ]
  },
  {
   "cell_type": "code",
   "execution_count": 9,
   "metadata": {},
   "outputs": [
    {
     "data": {
      "text/plain": [
       "<AxesSubplot:xlabel='PCT_IHB_3D7', ylabel='pXC50_3D7'>"
      ]
     },
     "execution_count": 9,
     "metadata": {},
     "output_type": "execute_result"
    },
    {
     "data": {
      "image/png": "[encoded data removed]",
      "text/plain": [
       "<Figure size 432x288 with 1 Axes>"
      ]
     },
     "metadata": {
      "needs_background": "light"
     },
     "output_type": "display_data"
    }
   ],
   "source": [
    "df.plot.scatter(x = 'PCT_IHB_3D7', y = 'pXC50_3D7')"
   ]
  },
  {
   "cell_type": "code",
   "execution_count": 10,
   "metadata": {},
   "outputs": [],
   "source": [
    "df2 = df[['COMPOUND_ID', 'PCT_IHB_3D7', 'pXC50_3D7', 'SMILES']]"
   ]
  },
  {
   "cell_type": "code",
   "execution_count": 11,
   "metadata": {},
   "outputs": [
    {
     "data": {
      "text/plain": [
       "(26784, 4)"
      ]
     },
     "execution_count": 11,
     "metadata": {},
     "output_type": "execute_result"
    }
   ],
   "source": [
    "df2.shape"
   ]
  },
  {
   "cell_type": "code",
   "execution_count": 12,
   "metadata": {},
   "outputs": [],
   "source": [
    "df2 = df2.dropna(axis = 0, how ='any', inplace = False)"
   ]
  },
  {
   "cell_type": "code",
   "execution_count": 13,
   "metadata": {},
   "outputs": [
    {
     "name": "stdout",
     "output_type": "stream",
     "text": [
      "(13403, 4)\n",
      "<class 'pandas.core.frame.DataFrame'>\n",
      "Int64Index: 13403 entries, 0 to 26783\n",
      "Data columns (total 4 columns):\n",
      " #   Column       Non-Null Count  Dtype  \n",
      "---  ------       --------------  -----  \n",
      " 0   COMPOUND_ID  13403 non-null  int64  \n",
      " 1   PCT_IHB_3D7  13403 non-null  float64\n",
      " 2   pXC50_3D7    13403 non-null  float64\n",
      " 3   SMILES       13403 non-null  object \n",
      "dtypes: float64(2), int64(1), object(1)\n",
      "memory usage: 523.6+ KB\n",
      "None\n"
     ]
    }
   ],
   "source": [
    "print(df2.shape)\n",
    "print(df2.info())"
   ]
  },
  {
   "cell_type": "code",
   "execution_count": 14,
   "metadata": {},
   "outputs": [
    {
     "data": {
      "text/plain": [
       "array([[<AxesSubplot:title={'center':'pXC50_3D7'}>]], dtype=object)"
      ]
     },
     "execution_count": 14,
     "metadata": {},
     "output_type": "execute_result"
    },
    {
     "data": {
      "image/png": "[encoded data removed]",
      "text/plain": [
       "<Figure size 432x288 with 1 Axes>"
      ]
     },
     "metadata": {
      "needs_background": "light"
     },
     "output_type": "display_data"
    }
   ],
   "source": [
    "df2.hist(column = 'pXC50_3D7', bins = 50)"
   ]
  },
  {
   "cell_type": "code",
   "execution_count": 15,
   "metadata": {},
   "outputs": [],
   "source": [
    "df2.to_csv('data/GSK_3D7.csv')"
   ]
  },
  {
   "cell_type": "code",
   "execution_count": null,
   "metadata": {},
   "outputs": [],
   "source": []
  }
 ],
 "metadata": {
  "kernelspec": {
   "display_name": "Python 3",
   "language": "python",
   "name": "python3"
  },
  "language_info": {
   "codemirror_mode": {
    "name": "ipython",
    "version": 3
   },
   "file_extension": ".py",
   "mimetype": "text/x-python",
   "name": "python",
   "nbconvert_exporter": "python",
   "pygments_lexer": "ipython3",
   "version": "3.7.6"
  }
 },
 "nbformat": 4,
 "nbformat_minor": 4
}
