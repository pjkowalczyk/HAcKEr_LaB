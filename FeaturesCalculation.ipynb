{
 "cells": [
  {
   "cell_type": "code",
   "execution_count": 3,
   "metadata": {},
   "outputs": [],
   "source": [
    "import pandas as pd\n",
    "from rdkit import Chem\n",
    "from rdkit.Chem import Descriptors\n",
    "from rdkit.ML.Descriptors import MoleculeDescriptors"
   ]
  },
  {
   "cell_type": "code",
   "execution_count": 5,
   "metadata": {},
   "outputs": [
    {
     "name": "stdout",
     "output_type": "stream",
     "text": [
      "['MaxEStateIndex', 'MinEStateIndex', 'MaxAbsEStateIndex', 'MinAbsEStateIndex', 'qed', 'MolWt', 'HeavyAtomMolWt', 'ExactMolWt', 'NumValenceElectrons', 'NumRadicalElectrons', 'MaxPartialCharge', 'MinPartialCharge', 'MaxAbsPartialCharge', 'MinAbsPartialCharge', 'FpDensityMorgan1', 'FpDensityMorgan2', 'FpDensityMorgan3', 'BalabanJ', 'BertzCT', 'Chi0', 'Chi0n', 'Chi0v', 'Chi1', 'Chi1n', 'Chi1v', 'Chi2n', 'Chi2v', 'Chi3n', 'Chi3v', 'Chi4n', 'Chi4v', 'HallKierAlpha', 'Ipc', 'Kappa1', 'Kappa2', 'Kappa3', 'LabuteASA', 'PEOE_VSA1', 'PEOE_VSA10', 'PEOE_VSA11', 'PEOE_VSA12', 'PEOE_VSA13', 'PEOE_VSA14', 'PEOE_VSA2', 'PEOE_VSA3', 'PEOE_VSA4', 'PEOE_VSA5', 'PEOE_VSA6', 'PEOE_VSA7', 'PEOE_VSA8', 'PEOE_VSA9', 'SMR_VSA1', 'SMR_VSA10', 'SMR_VSA2', 'SMR_VSA3', 'SMR_VSA4', 'SMR_VSA5', 'SMR_VSA6', 'SMR_VSA7', 'SMR_VSA8', 'SMR_VSA9', 'SlogP_VSA1', 'SlogP_VSA10', 'SlogP_VSA11', 'SlogP_VSA12', 'SlogP_VSA2', 'SlogP_VSA3', 'SlogP_VSA4', 'SlogP_VSA5', 'SlogP_VSA6', 'SlogP_VSA7', 'SlogP_VSA8', 'SlogP_VSA9', 'TPSA', 'EState_VSA1', 'EState_VSA10', 'EState_VSA11', 'EState_VSA2', 'EState_VSA3', 'EState_VSA4', 'EState_VSA5', 'EState_VSA6', 'EState_VSA7', 'EState_VSA8', 'EState_VSA9', 'VSA_EState1', 'VSA_EState10', 'VSA_EState2', 'VSA_EState3', 'VSA_EState4', 'VSA_EState5', 'VSA_EState6', 'VSA_EState7', 'VSA_EState8', 'VSA_EState9', 'FractionCSP3', 'HeavyAtomCount', 'NHOHCount', 'NOCount', 'NumAliphaticCarbocycles', 'NumAliphaticHeterocycles', 'NumAliphaticRings', 'NumAromaticCarbocycles', 'NumAromaticHeterocycles', 'NumAromaticRings', 'NumHAcceptors', 'NumHDonors', 'NumHeteroatoms', 'NumRotatableBonds', 'NumSaturatedCarbocycles', 'NumSaturatedHeterocycles', 'NumSaturatedRings', 'RingCount', 'MolLogP', 'MolMR', 'fr_Al_COO', 'fr_Al_OH', 'fr_Al_OH_noTert', 'fr_ArN', 'fr_Ar_COO', 'fr_Ar_N', 'fr_Ar_NH', 'fr_Ar_OH', 'fr_COO', 'fr_COO2', 'fr_C_O', 'fr_C_O_noCOO', 'fr_C_S', 'fr_HOCCN', 'fr_Imine', 'fr_NH0', 'fr_NH1', 'fr_NH2', 'fr_N_O', 'fr_Ndealkylation1', 'fr_Ndealkylation2', 'fr_Nhpyrrole', 'fr_SH', 'fr_aldehyde', 'fr_alkyl_carbamate', 'fr_alkyl_halide', 'fr_allylic_oxid', 'fr_amide', 'fr_amidine', 'fr_aniline', 'fr_aryl_methyl', 'fr_azide', 'fr_azo', 'fr_barbitur', 'fr_benzene', 'fr_benzodiazepine', 'fr_bicyclic', 'fr_diazo', 'fr_dihydropyridine', 'fr_epoxide', 'fr_ester', 'fr_ether', 'fr_furan', 'fr_guanido', 'fr_halogen', 'fr_hdrzine', 'fr_hdrzone', 'fr_imidazole', 'fr_imide', 'fr_isocyan', 'fr_isothiocyan', 'fr_ketone', 'fr_ketone_Topliss', 'fr_lactam', 'fr_lactone', 'fr_methoxy', 'fr_morpholine', 'fr_nitrile', 'fr_nitro', 'fr_nitro_arom', 'fr_nitro_arom_nonortho', 'fr_nitroso', 'fr_oxazole', 'fr_oxime', 'fr_para_hydroxylation', 'fr_phenol', 'fr_phenol_noOrthoHbond', 'fr_phos_acid', 'fr_phos_ester', 'fr_piperdine', 'fr_piperzine', 'fr_priamide', 'fr_prisulfonamd', 'fr_pyridine', 'fr_quatN', 'fr_sulfide', 'fr_sulfonamd', 'fr_sulfone', 'fr_term_acetylene', 'fr_tetrazole', 'fr_thiazole', 'fr_thiocyan', 'fr_thiophene', 'fr_unbrch_alkane', 'fr_urea']\n"
     ]
    }
   ],
   "source": [
    "descriptor_list = [x[0] for x in Descriptors._descList]\n",
    "print(descriptor_list)"
   ]
  },
  {
   "cell_type": "code",
   "execution_count": 6,
   "metadata": {},
   "outputs": [],
   "source": [
    "calc = MoleculeDescriptors.MolecularDescriptorCalculator([x[0] for x in Descriptors._descList])"
   ]
  },
  {
   "cell_type": "code",
   "execution_count": 7,
   "metadata": {},
   "outputs": [],
   "source": [
    "header = calc.GetDescriptorNames()"
   ]
  },
  {
   "cell_type": "code",
   "execution_count": 8,
   "metadata": {},
   "outputs": [],
   "source": [
    "df = pd.read_csv('Data/GSK_3D7.csv')"
   ]
  },
  {
   "cell_type": "code",
   "execution_count": 9,
   "metadata": {},
   "outputs": [
    {
     "data": {
      "text/html": [
       "<div>\n",
       "<style scoped>\n",
       "    .dataframe tbody tr th:only-of-type {\n",
       "        vertical-align: middle;\n",
       "    }\n",
       "\n",
       "    .dataframe tbody tr th {\n",
       "        vertical-align: top;\n",
       "    }\n",
       "\n",
       "    .dataframe thead th {\n",
       "        text-align: right;\n",
       "    }\n",
       "</style>\n",
       "<table border=\"1\" class=\"dataframe\">\n",
       "  <thead>\n",
       "    <tr style=\"text-align: right;\">\n",
       "      <th></th>\n",
       "      <th>Unnamed: 0</th>\n",
       "      <th>COMPOUND_ID</th>\n",
       "      <th>PCT_IHB_3D7</th>\n",
       "      <th>pXC50_3D7</th>\n",
       "      <th>SMILES</th>\n",
       "    </tr>\n",
       "  </thead>\n",
       "  <tbody>\n",
       "    <tr>\n",
       "      <th>12750</th>\n",
       "      <td>23055</td>\n",
       "      <td>537180</td>\n",
       "      <td>93.0</td>\n",
       "      <td>5.85789</td>\n",
       "      <td>CN1CCN(CC1)Cc2ccc(cc2)c3cccc(c3)c4[nH]c5ccccc5...</td>\n",
       "    </tr>\n",
       "    <tr>\n",
       "      <th>7187</th>\n",
       "      <td>12603</td>\n",
       "      <td>536115</td>\n",
       "      <td>94.0</td>\n",
       "      <td>5.84021</td>\n",
       "      <td>CCc1cccc(c1)OCC2CCCN(C2)c3ccc(cn3)C(=O)NC4CC4</td>\n",
       "    </tr>\n",
       "    <tr>\n",
       "      <th>457</th>\n",
       "      <td>1853</td>\n",
       "      <td>526437</td>\n",
       "      <td>92.0</td>\n",
       "      <td>5.87235</td>\n",
       "      <td>Cn1c(=O)c(c(cn1)c2ccccc2CN3CCCC3CN(C)C)Oc4cccc...</td>\n",
       "    </tr>\n",
       "  </tbody>\n",
       "</table>\n",
       "</div>"
      ],
      "text/plain": [
       "       Unnamed: 0  COMPOUND_ID  PCT_IHB_3D7  pXC50_3D7  \\\n",
       "12750       23055       537180         93.0    5.85789   \n",
       "7187        12603       536115         94.0    5.84021   \n",
       "457          1853       526437         92.0    5.87235   \n",
       "\n",
       "                                                  SMILES  \n",
       "12750  CN1CCN(CC1)Cc2ccc(cc2)c3cccc(c3)c4[nH]c5ccccc5...  \n",
       "7187       CCc1cccc(c1)OCC2CCCN(C2)c3ccc(cn3)C(=O)NC4CC4  \n",
       "457    Cn1c(=O)c(c(cn1)c2ccccc2CN3CCCC3CN(C)C)Oc4cccc...  "
      ]
     },
     "execution_count": 9,
     "metadata": {},
     "output_type": "execute_result"
    }
   ],
   "source": [
    "df.sample(n = 3, random_state = 42)"
   ]
  },
  {
   "cell_type": "code",
   "execution_count": 10,
   "metadata": {},
   "outputs": [],
   "source": [
    "mol = Chem.MolFromSmiles(df.SMILES[0])"
   ]
  },
  {
   "cell_type": "code",
   "execution_count": 12,
   "metadata": {},
   "outputs": [],
   "source": [
    "ds = calc.CalcDescriptors(mol)"
   ]
  },
  {
   "cell_type": "code",
   "execution_count": 18,
   "metadata": {},
   "outputs": [],
   "source": [
    "desc_df = pd.DataFrame(columns = header)\n",
    "for i in range(0, len(df)):\n",
    "    mol = Chem.MolFromSmiles(df.SMILES[i])\n",
    "    desc_df.loc[i, :] = pd.Series(calc.CalcDescriptors(mol), index = desc_df.columns)"
   ]
  },
  {
   "cell_type": "code",
   "execution_count": 19,
   "metadata": {},
   "outputs": [
    {
     "data": {
      "text/plain": [
       "(13403, 200)"
      ]
     },
     "execution_count": 19,
     "metadata": {},
     "output_type": "execute_result"
    }
   ],
   "source": [
    "desc_df.shape"
   ]
  },
  {
   "cell_type": "code",
   "execution_count": 17,
   "metadata": {},
   "outputs": [
    {
     "data": {
      "text/plain": [
       "13403"
      ]
     },
     "execution_count": 17,
     "metadata": {},
     "output_type": "execute_result"
    }
   ],
   "source": [
    "len(df)"
   ]
  },
  {
   "cell_type": "code",
   "execution_count": 22,
   "metadata": {},
   "outputs": [
    {
     "data": {
      "text/html": [
       "<div>\n",
       "<style scoped>\n",
       "    .dataframe tbody tr th:only-of-type {\n",
       "        vertical-align: middle;\n",
       "    }\n",
       "\n",
       "    .dataframe tbody tr th {\n",
       "        vertical-align: top;\n",
       "    }\n",
       "\n",
       "    .dataframe thead th {\n",
       "        text-align: right;\n",
       "    }\n",
       "</style>\n",
       "<table border=\"1\" class=\"dataframe\">\n",
       "  <thead>\n",
       "    <tr style=\"text-align: right;\">\n",
       "      <th></th>\n",
       "      <th>MaxEStateIndex</th>\n",
       "      <th>MinEStateIndex</th>\n",
       "      <th>MaxAbsEStateIndex</th>\n",
       "      <th>MinAbsEStateIndex</th>\n",
       "      <th>qed</th>\n",
       "      <th>MolWt</th>\n",
       "      <th>HeavyAtomMolWt</th>\n",
       "      <th>ExactMolWt</th>\n",
       "      <th>NumValenceElectrons</th>\n",
       "      <th>NumRadicalElectrons</th>\n",
       "      <th>...</th>\n",
       "      <th>fr_sulfide</th>\n",
       "      <th>fr_sulfonamd</th>\n",
       "      <th>fr_sulfone</th>\n",
       "      <th>fr_term_acetylene</th>\n",
       "      <th>fr_tetrazole</th>\n",
       "      <th>fr_thiazole</th>\n",
       "      <th>fr_thiocyan</th>\n",
       "      <th>fr_thiophene</th>\n",
       "      <th>fr_unbrch_alkane</th>\n",
       "      <th>fr_urea</th>\n",
       "    </tr>\n",
       "  </thead>\n",
       "  <tbody>\n",
       "    <tr>\n",
       "      <th>0</th>\n",
       "      <td>12.9537</td>\n",
       "      <td>0.0145533</td>\n",
       "      <td>12.9537</td>\n",
       "      <td>0.0145533</td>\n",
       "      <td>0.428843</td>\n",
       "      <td>528.697</td>\n",
       "      <td>488.377</td>\n",
       "      <td>528.31</td>\n",
       "      <td>206</td>\n",
       "      <td>0</td>\n",
       "      <td>...</td>\n",
       "      <td>0</td>\n",
       "      <td>0</td>\n",
       "      <td>0</td>\n",
       "      <td>0</td>\n",
       "      <td>0</td>\n",
       "      <td>0</td>\n",
       "      <td>0</td>\n",
       "      <td>0</td>\n",
       "      <td>0</td>\n",
       "      <td>0</td>\n",
       "    </tr>\n",
       "    <tr>\n",
       "      <th>1</th>\n",
       "      <td>12.6154</td>\n",
       "      <td>-0.575289</td>\n",
       "      <td>12.6154</td>\n",
       "      <td>0.0163207</td>\n",
       "      <td>0.273796</td>\n",
       "      <td>552.1</td>\n",
       "      <td>521.86</td>\n",
       "      <td>551.176</td>\n",
       "      <td>198</td>\n",
       "      <td>0</td>\n",
       "      <td>...</td>\n",
       "      <td>0</td>\n",
       "      <td>0</td>\n",
       "      <td>0</td>\n",
       "      <td>0</td>\n",
       "      <td>0</td>\n",
       "      <td>0</td>\n",
       "      <td>0</td>\n",
       "      <td>1</td>\n",
       "      <td>0</td>\n",
       "      <td>0</td>\n",
       "    </tr>\n",
       "    <tr>\n",
       "      <th>2</th>\n",
       "      <td>12.8107</td>\n",
       "      <td>-4.37844</td>\n",
       "      <td>12.8107</td>\n",
       "      <td>0.214526</td>\n",
       "      <td>0.219578</td>\n",
       "      <td>579.572</td>\n",
       "      <td>547.316</td>\n",
       "      <td>579.219</td>\n",
       "      <td>222</td>\n",
       "      <td>0</td>\n",
       "      <td>...</td>\n",
       "      <td>0</td>\n",
       "      <td>0</td>\n",
       "      <td>0</td>\n",
       "      <td>0</td>\n",
       "      <td>0</td>\n",
       "      <td>0</td>\n",
       "      <td>0</td>\n",
       "      <td>0</td>\n",
       "      <td>1</td>\n",
       "      <td>0</td>\n",
       "    </tr>\n",
       "  </tbody>\n",
       "</table>\n",
       "<p>3 rows × 200 columns</p>\n",
       "</div>"
      ],
      "text/plain": [
       "  MaxEStateIndex MinEStateIndex MaxAbsEStateIndex MinAbsEStateIndex       qed  \\\n",
       "0        12.9537      0.0145533           12.9537         0.0145533  0.428843   \n",
       "1        12.6154      -0.575289           12.6154         0.0163207  0.273796   \n",
       "2        12.8107       -4.37844           12.8107          0.214526  0.219578   \n",
       "\n",
       "     MolWt HeavyAtomMolWt ExactMolWt NumValenceElectrons NumRadicalElectrons  \\\n",
       "0  528.697        488.377     528.31                 206                   0   \n",
       "1    552.1         521.86    551.176                 198                   0   \n",
       "2  579.572        547.316    579.219                 222                   0   \n",
       "\n",
       "   ... fr_sulfide fr_sulfonamd fr_sulfone fr_term_acetylene fr_tetrazole  \\\n",
       "0  ...          0            0          0                 0            0   \n",
       "1  ...          0            0          0                 0            0   \n",
       "2  ...          0            0          0                 0            0   \n",
       "\n",
       "  fr_thiazole fr_thiocyan fr_thiophene fr_unbrch_alkane fr_urea  \n",
       "0           0           0            0                0       0  \n",
       "1           0           0            1                0       0  \n",
       "2           0           0            0                1       0  \n",
       "\n",
       "[3 rows x 200 columns]"
      ]
     },
     "execution_count": 22,
     "metadata": {},
     "output_type": "execute_result"
    }
   ],
   "source": [
    "desc_df.head(3)"
   ]
  },
  {
   "cell_type": "code",
   "execution_count": 23,
   "metadata": {},
   "outputs": [
    {
     "data": {
      "text/html": [
       "<div>\n",
       "<style scoped>\n",
       "    .dataframe tbody tr th:only-of-type {\n",
       "        vertical-align: middle;\n",
       "    }\n",
       "\n",
       "    .dataframe tbody tr th {\n",
       "        vertical-align: top;\n",
       "    }\n",
       "\n",
       "    .dataframe thead th {\n",
       "        text-align: right;\n",
       "    }\n",
       "</style>\n",
       "<table border=\"1\" class=\"dataframe\">\n",
       "  <thead>\n",
       "    <tr style=\"text-align: right;\">\n",
       "      <th></th>\n",
       "      <th>Unnamed: 0</th>\n",
       "      <th>COMPOUND_ID</th>\n",
       "      <th>PCT_IHB_3D7</th>\n",
       "      <th>pXC50_3D7</th>\n",
       "      <th>SMILES</th>\n",
       "    </tr>\n",
       "  </thead>\n",
       "  <tbody>\n",
       "    <tr>\n",
       "      <th>0</th>\n",
       "      <td>0</td>\n",
       "      <td>541908</td>\n",
       "      <td>94.0</td>\n",
       "      <td>6.09857</td>\n",
       "      <td>COc1ccc(c(c1)OC)C2CCN(CC2)CCN3CCC(CC3)NC(=O)c4...</td>\n",
       "    </tr>\n",
       "    <tr>\n",
       "      <th>1</th>\n",
       "      <td>1</td>\n",
       "      <td>538495</td>\n",
       "      <td>100.0</td>\n",
       "      <td>6.00393</td>\n",
       "      <td>C[C@H](c1ccccc1Cl)Oc2cc(sc2C(=O)N)n3cnc4c3cc(c...</td>\n",
       "    </tr>\n",
       "    <tr>\n",
       "      <th>2</th>\n",
       "      <td>2</td>\n",
       "      <td>538533</td>\n",
       "      <td>100.0</td>\n",
       "      <td>6.79958</td>\n",
       "      <td>COc1ccc2c(c1)c(ccn2)[C@H](CN3CCC(CC3)NCCOc4ccc...</td>\n",
       "    </tr>\n",
       "  </tbody>\n",
       "</table>\n",
       "</div>"
      ],
      "text/plain": [
       "   Unnamed: 0  COMPOUND_ID  PCT_IHB_3D7  pXC50_3D7  \\\n",
       "0           0       541908         94.0    6.09857   \n",
       "1           1       538495        100.0    6.00393   \n",
       "2           2       538533        100.0    6.79958   \n",
       "\n",
       "                                              SMILES  \n",
       "0  COc1ccc(c(c1)OC)C2CCN(CC2)CCN3CCC(CC3)NC(=O)c4...  \n",
       "1  C[C@H](c1ccccc1Cl)Oc2cc(sc2C(=O)N)n3cnc4c3cc(c...  \n",
       "2  COc1ccc2c(c1)c(ccn2)[C@H](CN3CCC(CC3)NCCOc4ccc...  "
      ]
     },
     "execution_count": 23,
     "metadata": {},
     "output_type": "execute_result"
    }
   ],
   "source": [
    "df.head(3)"
   ]
  },
  {
   "cell_type": "code",
   "execution_count": 25,
   "metadata": {},
   "outputs": [],
   "source": [
    "alles = df.join(desc_df)"
   ]
  },
  {
   "cell_type": "code",
   "execution_count": 26,
   "metadata": {},
   "outputs": [
    {
     "data": {
      "text/html": [
       "<div>\n",
       "<style scoped>\n",
       "    .dataframe tbody tr th:only-of-type {\n",
       "        vertical-align: middle;\n",
       "    }\n",
       "\n",
       "    .dataframe tbody tr th {\n",
       "        vertical-align: top;\n",
       "    }\n",
       "\n",
       "    .dataframe thead th {\n",
       "        text-align: right;\n",
       "    }\n",
       "</style>\n",
       "<table border=\"1\" class=\"dataframe\">\n",
       "  <thead>\n",
       "    <tr style=\"text-align: right;\">\n",
       "      <th></th>\n",
       "      <th>Unnamed: 0</th>\n",
       "      <th>COMPOUND_ID</th>\n",
       "      <th>PCT_IHB_3D7</th>\n",
       "      <th>pXC50_3D7</th>\n",
       "      <th>SMILES</th>\n",
       "      <th>MaxEStateIndex</th>\n",
       "      <th>MinEStateIndex</th>\n",
       "      <th>MaxAbsEStateIndex</th>\n",
       "      <th>MinAbsEStateIndex</th>\n",
       "      <th>qed</th>\n",
       "      <th>...</th>\n",
       "      <th>fr_sulfide</th>\n",
       "      <th>fr_sulfonamd</th>\n",
       "      <th>fr_sulfone</th>\n",
       "      <th>fr_term_acetylene</th>\n",
       "      <th>fr_tetrazole</th>\n",
       "      <th>fr_thiazole</th>\n",
       "      <th>fr_thiocyan</th>\n",
       "      <th>fr_thiophene</th>\n",
       "      <th>fr_unbrch_alkane</th>\n",
       "      <th>fr_urea</th>\n",
       "    </tr>\n",
       "  </thead>\n",
       "  <tbody>\n",
       "    <tr>\n",
       "      <th>12750</th>\n",
       "      <td>23055</td>\n",
       "      <td>537180</td>\n",
       "      <td>93.0</td>\n",
       "      <td>5.85789</td>\n",
       "      <td>CN1CCN(CC1)Cc2ccc(cc2)c3cccc(c3)c4[nH]c5ccccc5...</td>\n",
       "      <td>10.5787</td>\n",
       "      <td>-5.08333</td>\n",
       "      <td>10.5787</td>\n",
       "      <td>0.916423</td>\n",
       "      <td>0.402453</td>\n",
       "      <td>...</td>\n",
       "      <td>0</td>\n",
       "      <td>0</td>\n",
       "      <td>0</td>\n",
       "      <td>0</td>\n",
       "      <td>0</td>\n",
       "      <td>0</td>\n",
       "      <td>0</td>\n",
       "      <td>0</td>\n",
       "      <td>0</td>\n",
       "      <td>0</td>\n",
       "    </tr>\n",
       "    <tr>\n",
       "      <th>7187</th>\n",
       "      <td>12603</td>\n",
       "      <td>536115</td>\n",
       "      <td>94.0</td>\n",
       "      <td>5.84021</td>\n",
       "      <td>CCc1cccc(c1)OCC2CCCN(C2)c3ccc(cn3)C(=O)NC4CC4</td>\n",
       "      <td>12.1191</td>\n",
       "      <td>-0.0131664</td>\n",
       "      <td>12.1191</td>\n",
       "      <td>0.0131664</td>\n",
       "      <td>0.794319</td>\n",
       "      <td>...</td>\n",
       "      <td>0</td>\n",
       "      <td>0</td>\n",
       "      <td>0</td>\n",
       "      <td>0</td>\n",
       "      <td>0</td>\n",
       "      <td>0</td>\n",
       "      <td>0</td>\n",
       "      <td>0</td>\n",
       "      <td>0</td>\n",
       "      <td>0</td>\n",
       "    </tr>\n",
       "    <tr>\n",
       "      <th>457</th>\n",
       "      <td>1853</td>\n",
       "      <td>526437</td>\n",
       "      <td>92.0</td>\n",
       "      <td>5.87235</td>\n",
       "      <td>Cn1c(=O)c(c(cn1)c2ccccc2CN3CCCC3CN(C)C)Oc4cccc...</td>\n",
       "      <td>13.0454</td>\n",
       "      <td>-5.08333</td>\n",
       "      <td>13.0454</td>\n",
       "      <td>0.20954</td>\n",
       "      <td>0.458633</td>\n",
       "      <td>...</td>\n",
       "      <td>0</td>\n",
       "      <td>0</td>\n",
       "      <td>0</td>\n",
       "      <td>0</td>\n",
       "      <td>0</td>\n",
       "      <td>0</td>\n",
       "      <td>0</td>\n",
       "      <td>0</td>\n",
       "      <td>0</td>\n",
       "      <td>0</td>\n",
       "    </tr>\n",
       "  </tbody>\n",
       "</table>\n",
       "<p>3 rows × 205 columns</p>\n",
       "</div>"
      ],
      "text/plain": [
       "       Unnamed: 0  COMPOUND_ID  PCT_IHB_3D7  pXC50_3D7  \\\n",
       "12750       23055       537180         93.0    5.85789   \n",
       "7187        12603       536115         94.0    5.84021   \n",
       "457          1853       526437         92.0    5.87235   \n",
       "\n",
       "                                                  SMILES MaxEStateIndex  \\\n",
       "12750  CN1CCN(CC1)Cc2ccc(cc2)c3cccc(c3)c4[nH]c5ccccc5...        10.5787   \n",
       "7187       CCc1cccc(c1)OCC2CCCN(C2)c3ccc(cn3)C(=O)NC4CC4        12.1191   \n",
       "457    Cn1c(=O)c(c(cn1)c2ccccc2CN3CCCC3CN(C)C)Oc4cccc...        13.0454   \n",
       "\n",
       "      MinEStateIndex MaxAbsEStateIndex MinAbsEStateIndex       qed  ...  \\\n",
       "12750       -5.08333           10.5787          0.916423  0.402453  ...   \n",
       "7187      -0.0131664           12.1191         0.0131664  0.794319  ...   \n",
       "457         -5.08333           13.0454           0.20954  0.458633  ...   \n",
       "\n",
       "      fr_sulfide fr_sulfonamd fr_sulfone fr_term_acetylene fr_tetrazole  \\\n",
       "12750          0            0          0                 0            0   \n",
       "7187           0            0          0                 0            0   \n",
       "457            0            0          0                 0            0   \n",
       "\n",
       "      fr_thiazole fr_thiocyan fr_thiophene fr_unbrch_alkane fr_urea  \n",
       "12750           0           0            0                0       0  \n",
       "7187            0           0            0                0       0  \n",
       "457             0           0            0                0       0  \n",
       "\n",
       "[3 rows x 205 columns]"
      ]
     },
     "execution_count": 26,
     "metadata": {},
     "output_type": "execute_result"
    }
   ],
   "source": [
    "alles.sample(n = 3, random_state = 42)"
   ]
  },
  {
   "cell_type": "code",
   "execution_count": 27,
   "metadata": {},
   "outputs": [],
   "source": [
    "alles.to_csv('Data/GSK_3D7_features.csv')"
   ]
  },
  {
   "cell_type": "code",
   "execution_count": null,
   "metadata": {
    "collapsed": true
   },
   "outputs": [],
   "source": []
  }
 ],
 "metadata": {
  "kernelspec": {
   "display_name": "Python 3",
   "language": "python",
   "name": "python3"
  },
  "language_info": {
   "codemirror_mode": {
    "name": "ipython",
    "version": 3
   },
   "file_extension": ".py",
   "mimetype": "text/x-python",
   "name": "python",
   "nbconvert_exporter": "python",
   "pygments_lexer": "ipython3",
   "version": "3.7.6"
  }
 },
 "nbformat": 4,
 "nbformat_minor": 4
}
